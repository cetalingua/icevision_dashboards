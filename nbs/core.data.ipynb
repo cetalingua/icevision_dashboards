{
 "cells": [
  {
   "cell_type": "code",
   "execution_count": null,
   "metadata": {},
   "outputs": [],
   "source": [
    "# default_exp core.data"
   ]
  },
  {
   "cell_type": "markdown",
   "metadata": {},
   "source": [
    "# core.data\n",
    "> The basic data structures are defined here."
   ]
  },
  {
   "cell_type": "code",
   "execution_count": null,
   "metadata": {},
   "outputs": [],
   "source": [
    "#export\n",
    "from typing import Union, Optional, Any, Iterable, Callable\n",
    "import os\n",
    "import shutil\n",
    "from abc import ABC, abstractmethod"
   ]
  },
  {
   "cell_type": "code",
   "execution_count": null,
   "metadata": {},
   "outputs": [],
   "source": [
    "#hide\n",
    "import pytest"
   ]
  },
  {
   "cell_type": "code",
   "execution_count": null,
   "metadata": {},
   "outputs": [],
   "source": [
    "#export\n",
    "class Observable(ABC):\n",
    "    \"\"\"Simple implementation of the observer pattern.\"\"\"\n",
    "    def __init__(self):\n",
    "        self._callbacks = []\n",
    "    \n",
    "    def register_callback(self, callback: Callable):\n",
    "        self._callbacks.append(callback)\n",
    "        \n",
    "    def trigger_callbacks(self):\n",
    "        for callback in self._callbacks:\n",
    "            callback(self)"
   ]
  },
  {
   "cell_type": "markdown",
   "metadata": {},
   "source": [
    "Implements basic observer pattern, with a register and trigger function."
   ]
  },
  {
   "cell_type": "code",
   "execution_count": null,
   "metadata": {},
   "outputs": [],
   "source": [
    "#hide\n",
    "test_observable = Observable()\n",
    "test_callback_register = []\n",
    "test_observable.register_callback(lambda x: test_callback_register.append(0))\n",
    "test_observable.trigger_callbacks()\n",
    "assert len(test_callback_register) == 1"
   ]
  },
  {
   "cell_type": "code",
   "execution_count": null,
   "metadata": {},
   "outputs": [],
   "source": [
    "#export\n",
    "class ObservableList(Observable):\n",
    "    \"\"\"List with observer pattern. The internal list prepresentation can be accessed with the list attribute\"\"\"\n",
    "    def __init__(self, observable_list: list):\n",
    "        self._list = observable_list\n",
    "        super().__init__()\n",
    "        \n",
    "    @property\n",
    "    def list(self):\n",
    "        return self._list\n",
    "    \n",
    "    @list.setter\n",
    "    def list(self, value: Any):\n",
    "        self._list = value\n",
    "        self.trigger_callbacks()\n",
    "    \n",
    "    def __repr__(self):\n",
    "        return self._list.__repr__()\n",
    "    \n",
    "    def __iter__(self):\n",
    "        for item in self._list:\n",
    "            yield item\n",
    "    \n",
    "    def __len__(self):\n",
    "        return len(self._list)\n",
    "    \n",
    "    def __getitem__(self, index: int):\n",
    "        return self._list[index]\n",
    "    \n",
    "    def __setitem__(self, index: int, value: Any):\n",
    "        self._list[index] = value\n",
    "        self.trigger_callbacks()\n",
    "    \n",
    "    def append(self, item: Any):\n",
    "        self._list.append(item)\n",
    "        self.trigger_callbacks()\n",
    "        \n",
    "    def remove(self, item: Any):\n",
    "        self._list.remove(item)\n",
    "        self.trigger_callbacks()\n",
    "        \n",
    "    def insert(self, index: int, item: Any):\n",
    "        self._list.insert(index, item)\n",
    "        self.trigger_callbacks()\n",
    "    \n",
    "    def pop(self, index: int = -1):\n",
    "        poped_item = self._list.pop(index)\n",
    "        self.trigger_callbacks()\n",
    "        return poped_item\n",
    "    \n",
    "    def extend(self, iterable: Iterable):\n",
    "        self._list.extend(iterable)\n",
    "        self.trigger_callbacks()\n",
    "        \n",
    "    def clear(self):\n",
    "        self._list = []\n",
    "        \n",
    "    def count(self, item):\n",
    "        return self._list.count(item)\n",
    "    \n",
    "    def index(self, item, start=0, stop=9223372036854775807):\n",
    "        return self._list.index(item, start, stop)\n",
    "    \n",
    "    def reverse(self):\n",
    "        self._list.reverse()\n",
    "        \n",
    "    def sort(self, key=float, reverse=False):\n",
    "        self._list.sort(key=key, reverse=reverse)"
   ]
  },
  {
   "cell_type": "markdown",
   "metadata": {},
   "source": [
    "Implements a list with the observer patter. If the list changes all registered callbacks will be executed."
   ]
  },
  {
   "cell_type": "code",
   "execution_count": null,
   "metadata": {},
   "outputs": [],
   "source": [
    "#hide\n",
    "obs_list = ObservableList([])\n",
    "call_register = []\n",
    "obs_list.register_callback(lambda x: call_register.append(x))\n",
    "\n",
    "obs_list.list = [1]\n",
    "assert obs_list.list == [1]\n",
    "assert obs_list.__repr__() == \"[1]\"\n",
    "assert call_register[-1] == obs_list\n",
    "assert obs_list.count(1) == 1\n",
    "assert obs_list.index(1) == 0\n",
    "\n",
    "obs_list.append(2)\n",
    "assert call_register[-1] == obs_list\n",
    "\n",
    "obs_list.pop()\n",
    "assert call_register[-1] == obs_list\n",
    "\n",
    "obs_list.extend([3,4,5])\n",
    "assert call_register[-1] == obs_list\n",
    "\n",
    "obs_list.insert(2, 4)\n",
    "assert call_register[-1] == obs_list\n",
    "\n",
    "obs_list.remove(4)\n",
    "assert call_register[-1] == obs_list\n",
    "\n",
    "obs_list[0] = 0\n",
    "assert obs_list[0] == 0\n",
    "\n",
    "obs_list._list = [1,3,2]\n",
    "obs_list.sort()\n",
    "assert obs_list._list == [1,2,3]\n",
    "\n",
    "obs_list.reverse()\n",
    "assert obs_list._list == [3,2,1]\n",
    "\n",
    "obs_list.clear()\n",
    "assert obs_list._list == []"
   ]
  },
  {
   "cell_type": "code",
   "execution_count": null,
   "metadata": {},
   "outputs": [],
   "source": [
    "#export\n",
    "class DatasetDescriptor(ABC):\n",
    "    \"\"\"Abstract base class for descriptors of datasets\"\"\"\n",
    "    def __set_name__(self, owner, name):\n",
    "        owner._descriptors.append(self)\n",
    "        self.private_name = '_' + name\n",
    "\n",
    "    def __get__(self, obj, objtype=None):\n",
    "        if getattr(obj, self.private_name) is None:\n",
    "            value = self.calculate_description(obj)\n",
    "            setattr(obj, self.private_name, value)\n",
    "        return getattr(obj, self.private_name)\n",
    "\n",
    "    def __set__(self, obj, value):\n",
    "        if value is None:\n",
    "            setattr(obj, self.private_name, value)\n",
    "        else:\n",
    "            raise ValueError(\"Attribute can only be set to None externaly.\")\n",
    "            \n",
    "    @abstractmethod\n",
    "    def calculate_description(self, obj):\n",
    "        pass"
   ]
  },
  {
   "cell_type": "markdown",
   "metadata": {},
   "source": [
    "Abstaract base class for dataset descriptors. Inherited classes are required to implement a `calculate_description` function, that calculates the specific stats about a dataset one wants. For more information on how they are used see: `GenericDataset`."
   ]
  },
  {
   "cell_type": "code",
   "execution_count": null,
   "metadata": {},
   "outputs": [],
   "source": [
    "#export\n",
    "class StringDescriptor:\n",
    "    \"\"\"Descriptor for strings\"\"\"\n",
    "    def __set_name__(self, owner, name):\n",
    "        self.private_name = '_' + name\n",
    "    \n",
    "    def __get__(self, obj, objtype=None):\n",
    "        return getattr(obj, self.private_name)\n",
    "    \n",
    "    def __set__(self, obj, value):\n",
    "        setattr(obj, self.private_name, value)"
   ]
  },
  {
   "cell_type": "markdown",
   "metadata": {},
   "source": [
    "Descriptor for strings. Mainly used for name and descrition of a dataset (see `GenericDataset`)."
   ]
  },
  {
   "cell_type": "code",
   "execution_count": null,
   "metadata": {},
   "outputs": [],
   "source": [
    "#export\n",
    "class GenericDataset:\n",
    "    \"\"\"A generic datset that has a name and description. Data is stored under the attribute base_data. The class provides a function `reset_infered_data` which can be called to reset all descriptors.\"\"\"\n",
    "    _descriptors = []\n",
    "    \n",
    "    name = StringDescriptor()\n",
    "    description = StringDescriptor()\n",
    "    \n",
    "    def __init__(self, base_data, name: Optional[str] = None, description: Optional[str] = None):\n",
    "        self.base_data = base_data\n",
    "        self.name = name\n",
    "        self.description = description\n",
    "        super().__init__()\n",
    "        \n",
    "    def reset_infered_data(self, new_data=None):\n",
    "        \"\"\"Takes on argument to be compatible with panel.\"\"\"\n",
    "        for descriptor in self._descriptors:\n",
    "            descriptor.__set__(self, None)"
   ]
  },
  {
   "cell_type": "markdown",
   "metadata": {},
   "source": [
    "Generic base class for datasets that implements the basic control mechanisms. The idea behind the controll mechanism is, that if changes to the underlying data are made the changes to the infered data\n",
    "can be propagated without explicit calls after each change. To achive this information that is infered from the underlying data needs to be defined as a descriptor. The easiest way is to inherit from `DatasetDescriptor` and define the `calculate_description` method. To have the changes in the underlying data propagated the `reset_infered_data` function is provided. The `base_data` should be of a type that has the observer pattern implemented, then the `reset_infered_data` method can just be registered."
   ]
  },
  {
   "cell_type": "code",
   "execution_count": null,
   "metadata": {},
   "outputs": [],
   "source": [
    "#hide\n",
    "test_generic_dataset = GenericDataset([])\n",
    "test_generic_dataset.name = \"Test\"\n",
    "assert test_generic_dataset.name == \"Test\"\n",
    "test_generic_dataset.description = \"A short description\"\n",
    "assert test_generic_dataset.description == \"A short description\""
   ]
  },
  {
   "cell_type": "markdown",
   "metadata": {},
   "source": [
    "## Example\n",
    "Here we create a descriptor that returns a dict with with name and desription of the dataset. Then we create a TestDataset class that uses the new descriptor."
   ]
  },
  {
   "cell_type": "code",
   "execution_count": null,
   "metadata": {},
   "outputs": [],
   "source": [
    "class DatasetStatsDescriptor(DatasetDescriptor):\n",
    "    def calculate_description(self, obj):\n",
    "        return {\"name\": obj.name, \"description\": obj.description, \"num_data_points\": len(obj.base_data)}"
   ]
  },
  {
   "cell_type": "code",
   "execution_count": null,
   "metadata": {},
   "outputs": [],
   "source": [
    "class TestDataset(GenericDataset):\n",
    "    stats = DatasetStatsDescriptor()\n",
    "\n",
    "    def __init__(self):\n",
    "        data = ObservableList([1,2,3])\n",
    "        super().__init__(data, name=\"name\", description=\"description\")\n",
    "        self.stats = None\n",
    "        # register the reset hook\n",
    "        self.base_data.register_callback(self.reset_infered_data)"
   ]
  },
  {
   "cell_type": "code",
   "execution_count": null,
   "metadata": {},
   "outputs": [],
   "source": [
    "test_dataset = TestDataset()\n",
    "print(\"Stats before update: \", test_dataset.stats)\n",
    "# if we change the data the stats automatically update \n",
    "test_dataset.base_data.append(4)\n",
    "print(\"Stats after update: \", test_dataset.stats)"
   ]
  },
  {
   "cell_type": "code",
   "execution_count": null,
   "metadata": {},
   "outputs": [],
   "source": [
    "#hide\n",
    "with pytest.raises(ValueError):\n",
    "    test_dataset.stats = \"test\""
   ]
  }
 ],
 "metadata": {
  "kernelspec": {
   "display_name": "Python 3",
   "language": "python",
   "name": "python3"
  }
 },
 "nbformat": 4,
 "nbformat_minor": 4
}
