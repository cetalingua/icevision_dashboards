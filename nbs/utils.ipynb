{
 "cells": [
  {
   "cell_type": "code",
   "execution_count": null,
   "metadata": {},
   "outputs": [],
   "source": [
    "# default_exp utils"
   ]
  },
  {
   "cell_type": "markdown",
   "metadata": {},
   "source": [
    "# utils\n",
    "> Provides different util functions"
   ]
  },
  {
   "cell_type": "code",
   "execution_count": null,
   "metadata": {},
   "outputs": [],
   "source": [
    "#export\n",
    "import json\n",
    "from copy import deepcopy\n",
    "import numpy as np\n",
    "from PIL import Image\n",
    "\n",
    "from icevision.core.mask import EncodedRLEs, MaskArray\n",
    "\n",
    "from pycocotools import mask as mask_utils"
   ]
  },
  {
   "cell_type": "markdown",
   "metadata": {},
   "source": [
    "## Test data setup"
   ]
  },
  {
   "cell_type": "code",
   "execution_count": null,
   "metadata": {},
   "outputs": [],
   "source": [
    "import icedata"
   ]
  },
  {
   "cell_type": "code",
   "execution_count": null,
   "metadata": {},
   "outputs": [],
   "source": [
    "test_data_path_instance_segmentation = icedata.pennfudan.load_data()\n",
    "test_instance_segmentation_parser = icedata.pennfudan.parser(data_dir=test_data_path_instance_segmentation)\n",
    "test_instance_segmentation_train_records, test_instance_segmentation_valid_records = test_instance_segmentation_parser.parse()\n",
    "test_instance_segmentation_class_map = test_instance_segmentation_train_records[0].detection.class_map"
   ]
  },
  {
   "cell_type": "markdown",
   "metadata": {},
   "source": [
    "## Instance segmentation"
   ]
  },
  {
   "cell_type": "code",
   "execution_count": null,
   "metadata": {},
   "outputs": [],
   "source": [
    "#export\n",
    "def erles_to_string(erles):\n",
    "    erles_copy = deepcopy(erles)\n",
    "    erles_copy[\"counts\"] = erles_copy[\"counts\"].decode(\"utf-8\")\n",
    "    return json.dumps(erles_copy)"
   ]
  },
  {
   "cell_type": "code",
   "execution_count": null,
   "metadata": {},
   "outputs": [],
   "source": [
    "#hide\n",
    "erles_to_string(test_instance_segmentation_train_records[0].as_dict()[\"detection\"][\"masks\"].erles[0])"
   ]
  },
  {
   "cell_type": "code",
   "execution_count": null,
   "metadata": {},
   "outputs": [],
   "source": [
    "#export\n",
    "def erles_to_counts_to_utf8(erles):\n",
    "    erles_copy = deepcopy(erles)\n",
    "    for entry in erles_copy:\n",
    "        entry[\"counts\"] = entry[\"counts\"].decode(\"utf-8\")\n",
    "    return erles_copy"
   ]
  },
  {
   "cell_type": "code",
   "execution_count": null,
   "metadata": {},
   "outputs": [],
   "source": [
    "#hide\n",
    "erles_to_counts_to_utf8(test_instance_segmentation_train_records[0].as_dict()[\"detection\"][\"masks\"].erles)"
   ]
  },
  {
   "cell_type": "code",
   "execution_count": null,
   "metadata": {},
   "outputs": [],
   "source": [
    "#export\n",
    "def string_to_erles(erles_string):\n",
    "    erles = json.loads(erles_string)\n",
    "    erles[\"counts\"] = erles[\"counts\"].encode()\n",
    "    return erles"
   ]
  },
  {
   "cell_type": "code",
   "execution_count": null,
   "metadata": {},
   "outputs": [],
   "source": [
    "#hide\n",
    "test_erles = test_instance_segmentation_train_records[0].as_dict()[\"detection\"][\"masks\"].erles\n",
    "erles_string = json.dumps(erles_to_counts_to_utf8(test_erles)[0])\n",
    "string_to_erles(erles_string)"
   ]
  },
  {
   "cell_type": "code",
   "execution_count": null,
   "metadata": {},
   "outputs": [],
   "source": [
    "#export\n",
    "def correct_mask(mask_array, pad_x, pad_y, width, height):\n",
    "    # correct mask\n",
    "    corrected_mask_array = mask_array.transpose(2, 0, 1)\n",
    "    if round(pad_x/2) > 0:\n",
    "        corrected_mask_array=corrected_mask_array[:,:,round(pad_x/2):round(-pad_x/2)]\n",
    "    if round(pad_y/2) > 0:\n",
    "        corrected_mask_array=corrected_mask_array[:,round(pad_y/2):round(-pad_y/2),:]\n",
    "    corrected_mask_array = np.array(Image.fromarray(corrected_mask_array[0,:,:]).resize([width, height], Image.NEAREST))\n",
    "    corrected_mask_array = np.expand_dims(corrected_mask_array, 0)\n",
    "    # convert mask array to mask and get erles (only one erles exist!)\n",
    "    corrected_mask = MaskArray(corrected_mask_array)\n",
    "    return corrected_mask"
   ]
  },
  {
   "cell_type": "code",
   "execution_count": null,
   "metadata": {},
   "outputs": [],
   "source": [
    "#hide\n",
    "test_mask = np.zeros([1, 30, 30])\n",
    "test_mask_corrected = correct_mask(test_mask, 10, 0, 30, 20)\n",
    "assert test_mask_corrected.data.shape == (1, 20, 30)"
   ]
  },
  {
   "cell_type": "code",
   "execution_count": null,
   "metadata": {},
   "outputs": [],
   "source": []
  }
 ],
 "metadata": {
  "kernelspec": {
   "display_name": "Python 3",
   "language": "python",
   "name": "python3"
  }
 },
 "nbformat": 4,
 "nbformat_minor": 4
}
