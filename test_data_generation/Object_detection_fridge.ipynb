{
 "cells": [
  {
   "cell_type": "markdown",
   "id": "fatal-security",
   "metadata": {},
   "source": [
    "# Object Detection\n",
    "In this notebook we will have a look at the fridge dataset using different dashboards."
   ]
  },
  {
   "cell_type": "code",
   "execution_count": null,
   "id": "toxic-brave",
   "metadata": {},
   "outputs": [],
   "source": [
    "# Imports\n",
    "from icevision.all import *\n",
    "import icedata\n",
    "from icevision_dashboards.data import *"
   ]
  },
  {
   "cell_type": "markdown",
   "id": "forced-rebound",
   "metadata": {},
   "source": [
    "## Setup data\n"
   ]
  },
  {
   "cell_type": "code",
   "execution_count": null,
   "id": "documented-albert",
   "metadata": {},
   "outputs": [],
   "source": [
    "path = icedata.fridge.load_data()\n",
    "class_map = icedata.fridge.class_map()\n",
    "parser = icedata.fridge.parser(data_dir=path)\n",
    "train_records, valid_records = parser.parse()"
   ]
  },
  {
   "cell_type": "code",
   "execution_count": null,
   "id": "064e1eb5-0dba-4728-b405-59b3b3e695d0",
   "metadata": {},
   "outputs": [],
   "source": []
  },
  {
   "cell_type": "code",
   "execution_count": null,
   "id": "9f0bea66-8f60-4cd0-8f13-d951861da773",
   "metadata": {},
   "outputs": [],
   "source": [
    "record_ds = RecordDataset(valid_records, class_map)"
   ]
  },
  {
   "cell_type": "code",
   "execution_count": null,
   "id": "dd102dd2-eec4-4084-9a39-cef72e914731",
   "metadata": {},
   "outputs": [],
   "source": [
    "record_ds.name = \"record_dataset\""
   ]
  },
  {
   "cell_type": "code",
   "execution_count": null,
   "id": "0dbc0191-7da2-4285-a6c8-268376779ba3",
   "metadata": {},
   "outputs": [],
   "source": [
    "record_ds.save(\"test_data\")"
   ]
  },
  {
   "cell_type": "code",
   "execution_count": null,
   "id": "c6619023-7d6e-4a8a-b6c2-bf01d886692f",
   "metadata": {},
   "outputs": [],
   "source": []
  },
  {
   "cell_type": "code",
   "execution_count": null,
   "id": "ec0b079d-163e-48d5-b2a0-afe8d3c0667b",
   "metadata": {},
   "outputs": [],
   "source": []
  },
  {
   "cell_type": "markdown",
   "id": "sufficient-basis",
   "metadata": {},
   "source": [
    "## Train model for data generation"
   ]
  },
  {
   "cell_type": "code",
   "execution_count": null,
   "id": "boxed-milan",
   "metadata": {},
   "outputs": [],
   "source": [
    "# Define transforms\n",
    "train_tfms = tfms.A.Adapter(\n",
    "    [*tfms.A.aug_tfms(size=384, presize=512), tfms.A.Normalize()]\n",
    ")\n",
    "valid_tfms = tfms.A.Adapter([*tfms.A.resize_and_pad(384), tfms.A.Normalize()])"
   ]
  },
  {
   "cell_type": "code",
   "execution_count": null,
   "id": "damaged-orbit",
   "metadata": {},
   "outputs": [],
   "source": [
    "# Create datasets for training\n",
    "train_ds = Dataset(train_records, train_tfms)\n",
    "valid_ds = Dataset(valid_records, valid_tfms)"
   ]
  },
  {
   "cell_type": "code",
   "execution_count": null,
   "id": "224439a9-af11-407e-b2ee-6bf8a9eba314",
   "metadata": {},
   "outputs": [],
   "source": [
    "model_type = models.mmdet.faster_rcnn\n",
    "backbone = model_type.backbones.resnet50_fpn_1x(pretrained=True)"
   ]
  },
  {
   "cell_type": "code",
   "execution_count": null,
   "id": "702b1916-f10d-49de-abef-302b76c1a792",
   "metadata": {
    "tags": []
   },
   "outputs": [],
   "source": [
    "model = model_type.model(backbone=backbone, num_classes=len(class_map))\n",
    "metrics = [COCOMetric(metric_type=COCOMetricType.bbox)]\n",
    "train_dl = model_type.train_dl(train_ds, batch_size=1, num_workers=4, shuffle=True)\n",
    "valid_dl = model_type.valid_dl(valid_ds, batch_size=1, num_workers=4, shuffle=False)\n",
    "\n",
    "learn = model_type.fastai.learner(dls=[train_dl, valid_dl], model=model, metrics=metrics)\n",
    "\n",
    "learn.fine_tune(5, freeze_epochs=1, base_lr=1e-4)"
   ]
  },
  {
   "cell_type": "markdown",
   "id": "helpful-jonathan",
   "metadata": {},
   "source": [
    "## Create preds and sampels files"
   ]
  },
  {
   "cell_type": "code",
   "execution_count": null,
   "id": "fb9d017d-339c-4f5f-aa33-aa7170fb2734",
   "metadata": {},
   "outputs": [],
   "source": [
    "_ = model.to(\"cuda:0\")"
   ]
  },
  {
   "cell_type": "code",
   "execution_count": null,
   "id": "b138f0c5-c085-4ac9-ae92-c75fa3cd042f",
   "metadata": {},
   "outputs": [],
   "source": [
    "samples, losses_stats = model_type.interp.get_losses(model, valid_ds)"
   ]
  },
  {
   "cell_type": "code",
   "execution_count": null,
   "id": "56b2a59f-3d1f-456e-a8ed-924b8f13bc2c",
   "metadata": {},
   "outputs": [],
   "source": [
    "dl = model_type.interp.infer_dl(valid_ds, batch_size=2)\n",
    "preds = model_type.interp.predict_from_dl(model=model, infer_dl=dl, keep_images=True)"
   ]
  },
  {
   "cell_type": "code",
   "execution_count": null,
   "id": "6c471f37-0e91-42c7-871e-7e4d26cbc604",
   "metadata": {},
   "outputs": [],
   "source": [
    "def get_compnent(components, component_type):\n",
    "    for component in components:\n",
    "        if isinstance(component, component_type):\n",
    "            return component\n",
    "    else:\n",
    "        return None"
   ]
  },
  {
   "cell_type": "code",
   "execution_count": null,
   "id": "2433687d-17fb-436a-b05c-e00216bf13e8",
   "metadata": {},
   "outputs": [],
   "source": [
    "def remove_image(components):\n",
    "    for entry in list(components):\n",
    "        if isinstance(entry, FilepathRecordComponent) or isinstance(entry, ImageRecordComponent):\n",
    "            entry.img = None"
   ]
  },
  {
   "cell_type": "code",
   "execution_count": null,
   "id": "a5d29a80-d898-488e-9b02-2b6ecfa9a97c",
   "metadata": {},
   "outputs": [],
   "source": [
    "def cleanup_preds(preds):\n",
    "    new_preds = deepcopy(preds)\n",
    "    for pred in new_preds:\n",
    "        remove_image(pred.ground_truth.common.components)\n",
    "        remove_image(pred.pred.common.components)\n",
    "    return new_preds"
   ]
  },
  {
   "cell_type": "code",
   "execution_count": null,
   "id": "f4c425fa-1198-4c06-9438-5eab05348135",
   "metadata": {},
   "outputs": [],
   "source": [
    "# remove all the data not required (image) and convert the masks to a smaller data fromat\n",
    "clean_preds = cleanup_preds(preds)\n",
    "pickle.dump(clean_preds, open(\"test_data/object_detection_preds.pkl\", \"wb\"))\n",
    "preds = pickle.load(open(\"test_data/object_detection_preds.pkl\", \"rb\"))"
   ]
  },
  {
   "cell_type": "code",
   "execution_count": null,
   "id": "318280d3-c790-402d-9c13-2f33f9a8dfdb",
   "metadata": {},
   "outputs": [],
   "source": [
    "def cleanup_samples(samples):\n",
    "    new_samples = deepcopy(samples)\n",
    "    for sample in new_samples:\n",
    "        remove_image(sample.components)\n",
    "    return new_samples"
   ]
  },
  {
   "cell_type": "code",
   "execution_count": null,
   "id": "14de801e-f3cd-4696-8b8f-8f5f98ee8a80",
   "metadata": {},
   "outputs": [],
   "source": [
    "# remove all the data not required (image)\n",
    "clean_samples = cleanup_samples(samples)\n",
    "pickle.dump(clean_samples, open(\"test_data/object_detection_samples.pkl\", \"wb\"))\n",
    "samples = pickle.load(open(\"test_data/object_detection_samples.pkl\", \"rb\"))"
   ]
  },
  {
   "cell_type": "code",
   "execution_count": null,
   "id": "incorrect-extra",
   "metadata": {},
   "outputs": [],
   "source": [
    "valid_result_ds = ObjectDetectionResultsDataset.init_from_preds_and_samples(preds, samples, class_map=class_map)\n",
    "valid_result_ds.save(\"test_data/object_detection_result_ds.dat\")"
   ]
  },
  {
   "cell_type": "markdown",
   "id": "c3cdd002-0240-4dbb-b4a2-bb510968880c",
   "metadata": {},
   "source": [
    "## Cleanup"
   ]
  },
  {
   "cell_type": "code",
   "execution_count": null,
   "id": "b7b51de0-cce5-48e5-b0e2-7e9567eb47ce",
   "metadata": {},
   "outputs": [],
   "source": [
    "shutil.rmtree(\"checkpoints/\")"
   ]
  },
  {
   "cell_type": "code",
   "execution_count": null,
   "id": "dd70b653-a7e1-4e5b-91d1-cd67d03ff7b2",
   "metadata": {},
   "outputs": [],
   "source": []
  }
 ],
 "metadata": {
  "kernelspec": {
   "display_name": "Python 3",
   "language": "python",
   "name": "python3"
  },
  "language_info": {
   "codemirror_mode": {
    "name": "ipython",
    "version": 3
   },
   "file_extension": ".py",
   "mimetype": "text/x-python",
   "name": "python",
   "nbconvert_exporter": "python",
   "pygments_lexer": "ipython3",
   "version": "3.9.5"
  }
 },
 "nbformat": 4,
 "nbformat_minor": 5
}
