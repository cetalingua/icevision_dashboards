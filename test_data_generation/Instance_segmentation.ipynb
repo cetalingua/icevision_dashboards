{
 "cells": [
  {
   "cell_type": "markdown",
   "id": "fatal-security",
   "metadata": {},
   "source": [
    "# Instance Segmentation\n",
    "In this notebook generates all the test data required for the test with instance segmentation that requires test data."
   ]
  },
  {
   "cell_type": "code",
   "execution_count": null,
   "id": "toxic-brave",
   "metadata": {},
   "outputs": [],
   "source": [
    "# Imports\n",
    "import pickle\n",
    "import shutil\n",
    "\n",
    "from icevision.all import *\n",
    "import icedata\n",
    "\n",
    "from icevision_dashboards.data import InstanceSegmentationResultsDataset"
   ]
  },
  {
   "cell_type": "markdown",
   "id": "forced-rebound",
   "metadata": {},
   "source": [
    "## Setup data"
   ]
  },
  {
   "cell_type": "code",
   "execution_count": null,
   "id": "documented-albert",
   "metadata": {},
   "outputs": [],
   "source": [
    "# Load the Fridge dataset\n",
    "path = icedata.pennfudan.load_data()\n",
    "# parse the data\n",
    "parser = icedata.pennfudan.parser(data_dir=path)\n",
    "# we just want to have a look at the data so we don't split the data\n",
    "train_records, valid_records = parser.parse()\n",
    "# get the class map\n",
    "class_map = train_records[0].detection.class_map"
   ]
  },
  {
   "cell_type": "markdown",
   "id": "sufficient-basis",
   "metadata": {},
   "source": [
    "## Train model for data generation"
   ]
  },
  {
   "cell_type": "code",
   "execution_count": null,
   "id": "boxed-milan",
   "metadata": {},
   "outputs": [],
   "source": [
    "# Define transforms\n",
    "train_tfms = tfms.A.Adapter(\n",
    "    [*tfms.A.aug_tfms(size=384, presize=512), tfms.A.Normalize()]\n",
    ")\n",
    "valid_tfms = tfms.A.Adapter([*tfms.A.resize_and_pad(384), tfms.A.Normalize()])"
   ]
  },
  {
   "cell_type": "code",
   "execution_count": null,
   "id": "damaged-orbit",
   "metadata": {},
   "outputs": [],
   "source": [
    "train_ds = Dataset(train_records, train_tfms)\n",
    "valid_ds = Dataset(valid_records, valid_tfms)"
   ]
  },
  {
   "cell_type": "code",
   "execution_count": null,
   "id": "dfa816ee-1532-46b6-b8c7-9a3f78328982",
   "metadata": {},
   "outputs": [],
   "source": [
    "model_type = models.mmdet.mask_rcnn\n",
    "backbone = model_type.backbones.resnet50_fpn_1x(pretrained=True)"
   ]
  },
  {
   "cell_type": "code",
   "execution_count": null,
   "id": "702b1916-f10d-49de-abef-302b76c1a792",
   "metadata": {
    "tags": []
   },
   "outputs": [],
   "source": [
    "model = model_type.model(backbone=backbone, num_classes=len(class_map))\n",
    "metrics = [COCOMetric(metric_type=COCOMetricType.mask)]"
   ]
  },
  {
   "cell_type": "code",
   "execution_count": null,
   "id": "334bb4ad-c498-472e-90e8-ed3fe7c2f39e",
   "metadata": {},
   "outputs": [],
   "source": [
    "train_dl = model_type.train_dl(train_ds, batch_size=2, num_workers=4, shuffle=True)\n",
    "valid_dl = model_type.valid_dl(valid_ds, batch_size=2, num_workers=4, shuffle=False)"
   ]
  },
  {
   "cell_type": "code",
   "execution_count": null,
   "id": "1a44038c-cb6e-4ed0-92b5-e378e5970a2c",
   "metadata": {},
   "outputs": [],
   "source": [
    "class LightModel(model_type.lightning.ModelAdapter):\n",
    "    def configure_optimizers(self):\n",
    "        return Adam(self.parameters(), lr=1e-4)\n",
    "\n",
    "light_model = LightModel(model, metrics=metrics)"
   ]
  },
  {
   "cell_type": "code",
   "execution_count": null,
   "id": "0f46f779-c880-4e84-98a6-f93c800e47e3",
   "metadata": {
    "tags": []
   },
   "outputs": [],
   "source": [
    "trainer = pl.Trainer(max_epochs=15, gpus=1)\n",
    "trainer.fit(light_model, train_dl, valid_dl)"
   ]
  },
  {
   "cell_type": "markdown",
   "id": "helpful-jonathan",
   "metadata": {},
   "source": [
    "## Create preds and sampels files"
   ]
  },
  {
   "cell_type": "code",
   "execution_count": null,
   "id": "5238c5a1-0dd1-412c-8e5d-c402bb4890b0",
   "metadata": {},
   "outputs": [],
   "source": [
    "_ = model.to(\"cuda:0\")"
   ]
  },
  {
   "cell_type": "code",
   "execution_count": null,
   "id": "c88c221c-5383-4ece-a19e-b1495b860bd8",
   "metadata": {},
   "outputs": [],
   "source": [
    "_ = light_model.to(\"cuda:0\")"
   ]
  },
  {
   "cell_type": "code",
   "execution_count": null,
   "id": "c17b49fe-202f-4ccd-9169-0007c2410d6c",
   "metadata": {},
   "outputs": [],
   "source": [
    "light_model.device"
   ]
  },
  {
   "cell_type": "code",
   "execution_count": null,
   "id": "601d0efa-bd7e-4e78-8fb4-55bfcd7925b7",
   "metadata": {},
   "outputs": [],
   "source": [
    "samples, losses_stats = model_type.interp.get_losses(model, valid_ds)"
   ]
  },
  {
   "cell_type": "code",
   "execution_count": null,
   "id": "59bf2d08-7024-4e48-afc5-2e91f57503f3",
   "metadata": {},
   "outputs": [],
   "source": [
    "dl = model_type.interp.infer_dl(valid_ds, batch_size=2)\n",
    "preds = model_type.interp.predict_from_dl(model=model, infer_dl=dl, keep_images=True)"
   ]
  },
  {
   "cell_type": "code",
   "execution_count": null,
   "id": "86ecd514-725f-4a3f-82a8-9deef1d8f521",
   "metadata": {},
   "outputs": [],
   "source": [
    "def get_updated_mask(pred):\n",
    "    stacked_mask_array = np.stack([entry.data[0,:,:] for entry in pred.detection.masks])\n",
    "    new_mask_array = MaskArray(stacked_mask_array)\n",
    "    new_mask = new_mask_array.to_erles(None, None)\n",
    "    return new_mask"
   ]
  },
  {
   "cell_type": "code",
   "execution_count": null,
   "id": "731e1f2b-72c5-4968-b140-52be6df0588a",
   "metadata": {},
   "outputs": [],
   "source": [
    "def get_compnent(components, component_type):\n",
    "    for component in components:\n",
    "        if isinstance(component, component_type):\n",
    "            return component\n",
    "    else:\n",
    "        return None"
   ]
  },
  {
   "cell_type": "code",
   "execution_count": null,
   "id": "e95bb284-d03d-49b3-9ad9-040e673b1bf5",
   "metadata": {},
   "outputs": [],
   "source": [
    "def remove_image(components):\n",
    "    for entry in list(components):\n",
    "        if isinstance(entry, FilepathRecordComponent) or isinstance(entry, ImageRecordComponent):\n",
    "            entry.img = None"
   ]
  },
  {
   "cell_type": "code",
   "execution_count": null,
   "id": "f1721fc7-e08d-4f5b-b83e-a5ee0455d31a",
   "metadata": {},
   "outputs": [],
   "source": [
    "def cleanup_preds(preds):\n",
    "    new_preds = deepcopy(preds)\n",
    "    for pred in new_preds:\n",
    "        new_mask = get_updated_mask(pred)\n",
    "        get_compnent(list(pred.pred.detection.components), InstanceMasksRecordComponent).set_masks([new_mask])\n",
    "        remove_image(pred.ground_truth.common.components)\n",
    "        remove_image(pred.pred.common.components)\n",
    "    return new_preds"
   ]
  },
  {
   "cell_type": "code",
   "execution_count": null,
   "id": "6b79b050-2c15-451a-b355-47333c99ef07",
   "metadata": {},
   "outputs": [],
   "source": [
    "# remove all the data not required (image) and convert the masks to a smaller data fromat\n",
    "clean_preds = cleanup_preds(preds)\n",
    "pickle.dump(clean_preds, open(\"test_data/instance_segmentation_preds.pkl\", \"wb\"))\n",
    "preds = pickle.load(open(\"test_data/instance_segmentation_preds.pkl\", \"rb\"))"
   ]
  },
  {
   "cell_type": "code",
   "execution_count": null,
   "id": "6c5ed25d-6a0f-4a68-9023-6158108c3e78",
   "metadata": {},
   "outputs": [],
   "source": [
    "def cleanup_samples(samples):\n",
    "    new_samples = deepcopy(samples)\n",
    "    for sample in new_samples:\n",
    "        remove_image(sample.components)\n",
    "    return new_samples"
   ]
  },
  {
   "cell_type": "code",
   "execution_count": null,
   "id": "41d06bf2-39f5-47cf-a6f2-c53ea231baf9",
   "metadata": {
    "tags": []
   },
   "outputs": [],
   "source": [
    "# remove all the data not required (image)\n",
    "clean_samples = cleanup_samples(samples)\n",
    "pickle.dump(clean_samples, open(\"test_data/instance_segmentation_samples.pkl\", \"wb\"))\n",
    "samples = pickle.load(open(\"test_data/instance_segmentation_samples.pkl\", \"rb\"))"
   ]
  },
  {
   "cell_type": "code",
   "execution_count": null,
   "id": "incorrect-extra",
   "metadata": {},
   "outputs": [],
   "source": [
    "# first create a dataset that can be consumed by the analysis dashboard\n",
    "valid_result_ds = InstanceSegmentationResultsDataset.init_from_preds_and_samples(preds, samples, class_map=class_map)\n",
    "valid_result_ds.save(\"test_data/instance_segmentation_result_ds_valid.dat\")"
   ]
  },
  {
   "cell_type": "markdown",
   "id": "58793693-534a-461b-aea7-d76b760314dc",
   "metadata": {},
   "source": [
    "## Cleanup"
   ]
  },
  {
   "cell_type": "code",
   "execution_count": null,
   "id": "d2acfda6-bccd-4812-a3b3-c62799c66705",
   "metadata": {},
   "outputs": [],
   "source": [
    "shutil.rmtree(\"checkpoints/\")\n",
    "shutil.rmtree(\"lightning_logs/\")"
   ]
  },
  {
   "cell_type": "code",
   "execution_count": null,
   "id": "44d8d157-22ef-4e43-812a-3c95831032d0",
   "metadata": {},
   "outputs": [],
   "source": []
  }
 ],
 "metadata": {
  "kernelspec": {
   "display_name": "Python 3",
   "language": "python",
   "name": "python3"
  },
  "language_info": {
   "codemirror_mode": {
    "name": "ipython",
    "version": 3
   },
   "file_extension": ".py",
   "mimetype": "text/x-python",
   "name": "python",
   "nbconvert_exporter": "python",
   "pygments_lexer": "ipython3",
   "version": "3.9.5"
  }
 },
 "nbformat": 4,
 "nbformat_minor": 5
}
