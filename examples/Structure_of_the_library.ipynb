{
 "cells": [
  {
   "cell_type": "markdown",
   "id": "homeless-costs",
   "metadata": {},
   "source": [
    "# Structure of the library\n",
    "In this notebook the basic components and ideas behind the library will be explained and demonstrated. All exampes are presented for object detection but also extend to instance segmentation."
   ]
  },
  {
   "cell_type": "markdown",
   "id": "512a2df7-7f6c-4f07-9da7-e4364c1c8c0e",
   "metadata": {},
   "source": [
    "## Overview\n",
    "The library consists of three major parts: plotting functions/controlls, datasets/descriptors and dashboards.\n",
    "\n",
    "Plotting functions and controls provide functions to generate bokeh plots and panel controll elements, these can be used to build the gui interface for the dashboards.\n",
    "The datasets allow for data (e.g. records) to be consumed by a dashboard. Descriptors are used to modify the behaviour of datassets and dashboards to make them easily adaptable.\n",
    "Dashboards combine plotting functions, controlls and datasets to generate insight into the data."
   ]
  },
  {
   "cell_type": "markdown",
   "id": "7a6d2a03-bd88-492a-a032-88d20819b7bc",
   "metadata": {},
   "source": [
    "### Dashboards\n",
    "Each dashboard is made up from a gui (based on plotting functions and controlls) and a dataset, which provides the data for the gui.\n",
    "The abstarct base class for a dashboard only defines an `__init__` function which takes a `width` and `height` parameters and calles the `build_gui` function. Furthermore, the abstact methods `build_gui` and `show` are defined, which need to be implemented by all inherited classes. `build_gui` is used to build the elements that make up the dashboard, it should not return anything but set the class attributes that make up the gui. `show` should return panel object that can be displayed.\n",
    "Because the `__init__` function automatically calls `build_gui` the super method for the init should be called last.\n",
    "\n",
    "To show a simple form of a dashboard we will create a dashboard below, that inherits from the Dashboard class and displays a given string with a lightgray background."
   ]
  },
  {
   "cell_type": "code",
   "execution_count": null,
   "id": "7294d95a-a698-40d2-9fb9-affa626af20a",
   "metadata": {},
   "outputs": [],
   "source": [
    "import panel as pn\n",
    "from icevision_dashboards.core.dashboards import Dashboard"
   ]
  },
  {
   "cell_type": "code",
   "execution_count": null,
   "id": "88de96da-487f-4597-acb3-2c2be0aa1677",
   "metadata": {},
   "outputs": [],
   "source": [
    "# make sure panel output will be diplayed in the notebook\n",
    "pn.extension()"
   ]
  },
  {
   "cell_type": "code",
   "execution_count": null,
   "id": "a8791110-ea3d-4fda-ac23-afb4304d736c",
   "metadata": {},
   "outputs": [],
   "source": [
    "# very simpel dashboard\n",
    "class SimpelDashboard(Dashboard):\n",
    "    # define a __init__ function that takes a string which will be displayed\n",
    "    def __init__(self, string, width=100, height=100):\n",
    "        self.string = string\n",
    "        # calling super will set the width and height attribute for the dashbaord and call the build_gui function\n",
    "        super().__init__(width, height)\n",
    "        \n",
    "    def build_gui(self):\n",
    "        # build a simple gui that takes the classes string and displayes as panel.pane.Markdown with a lightgray background\n",
    "        self.gui = pn.pane.Markdown(self.string, background=\"lightgray\")\n",
    "        \n",
    "    def show(self):\n",
    "        # just return self.gui to display the build gui\n",
    "        return self.gui"
   ]
  },
  {
   "cell_type": "code",
   "execution_count": null,
   "id": "ef69f4b9-3716-4265-821a-77e3a369dfa4",
   "metadata": {},
   "outputs": [],
   "source": [
    "SimpelDashboard(\"This is a test string\").show()"
   ]
  },
  {
   "cell_type": "markdown",
   "id": "ab94f2a8-5f58-466b-ac54-8868baef570d",
   "metadata": {},
   "source": [
    "Many dashboards in the library use descriptors for customizability. Before we take a look at how dashboards use descriptors and how to simply change dashboards with descriptors first a bit about data in IcevisionDashboards."
   ]
  },
  {
   "cell_type": "markdown",
   "id": "30510b7e-222f-4c56-b28e-31f7db46b002",
   "metadata": {},
   "source": [
    "### Data\n",
    "Datasets in IcevisionDashboards (not to confuse with datasets from icevision) consist of some data (often a list of records) and some descriptors (for more on descriptors in Python see here: https://docs.python.org/3/howto/descriptor.html). \n",
    "\n",
    "IcevisionDashboars defines a DatasetDescriptor: \n",
    "\n",
    "```python\n",
    "class DatasetDescriptor(ABC):\n",
    "    \"\"\"Abstract base class for descriptors of datasets.\n",
    "    The private name of the descriptor is the defined name with a prefix _.\n",
    "    The __get__ function will call the calculate_description function if the value of the descriptor is None and then return the value else it will just return the value of the descriptor.\n",
    "    The __set__ function only allows for the attribute to be set to None, which will trigger a recomputation the next time the __get__ function is called.\n",
    "    When inheriting this class the function calculate_description needs to be implemented, which defines how the private value should be calculated.\n",
    "    \"\"\"\n",
    "    def __set_name__(self, owner, name):\n",
    "        owner._descriptors.append(self)\n",
    "        self.private_name = '_' + name\n",
    "\n",
    "    def __get__(self, obj, objtype=None):\n",
    "        \"Attribute will be recomputed if it is None else the befor computed version will be returned.\"\n",
    "        if getattr(obj, self.private_name) is None:\n",
    "            value = self.calculate_description(obj)\n",
    "            setattr(obj, self.private_name, value)\n",
    "        return getattr(obj, self.private_name)\n",
    "\n",
    "    def __set__(self, obj, value):\n",
    "        \"Attribute can only be set to None externaly, otherwise an ValueError will be raised.\"\n",
    "        if value is None:\n",
    "            setattr(obj, self.private_name, value)\n",
    "        else:\n",
    "            raise ValueError(\"Attribute can only be set to None externaly.\")\n",
    "            \n",
    "    @abstractmethod\n",
    "    def calculate_description(self, obj):\n",
    "        pass\n",
    "```\n",
    "\n",
    "The private name is always the name of the descriptor with prefix `_`. The idea for the DatasetDescriptors is, that it uses the `base_data` or other data of the dataset and calculates new informations based on that. For that reason, the `__set__` function only allows for a descriptor to be set to None, which will trigger a recomputation the next time the `__get__` function is called. The `__get__` automatically check if the value of the private name is None and if so calls the `calculate_description` to recompute the value of the descriptor or otherwise return the current value of the descriptor.\n",
    "\n",
    "    Note: The DatasetDescriptor automatically registers the descriptor in the _descriptor list of the owner. The Dataset class already has the _descriptor attribute as a class attribute. This allows for a dataset to reset all descriptors if the base data changes.\n",
    "\n",
    "The reason behind this behaviour is to allow for datasets/dashboard stats to be changed dynamically. For example when creating new dataset with a dashboard the stats of the new dataset need to be calculated after each change of the dataset.\n",
    "\n",
    "Most descriptors (based on DatasetDescriptor) return a pandas dataframe for `calculate_description` that is than cosumed by a dashboard."
   ]
  },
  {
   "cell_type": "markdown",
   "id": "f24be289-013e-4633-82b8-9c78976ae07b",
   "metadata": {},
   "source": [
    "For example the `BboxRecordDataset` uses the following descriptors:\n",
    "\n",
    "    - data = DataDescriptorBbox()\n",
    "    - gallery_data = GalleryStatsDescriptorBbox()\n",
    "    - stats_dataset = StatsDescriptorBbox()\n",
    "    - stats_image = ImageStatsDescriptorBbox()\n",
    "    - stats_class = ClassStatsDescriptorBbox()\n",
    "    - stats = StatsDescriptorBbox()\n",
    "   \n",
    "In the example below we create a regular `BboxRecordDataset` and then create our own with a custom desriptor for stats.\n",
    "\n",
    "First we load the records for the fridge dataset and create a `BboxRecordDataset` from the records."
   ]
  },
  {
   "cell_type": "code",
   "execution_count": null,
   "id": "ad83ef77-3bb0-44d5-a50d-44a7bfb6e47a",
   "metadata": {},
   "outputs": [],
   "source": [
    "import icedata\n",
    "from icevision.data.data_splitter import RandomSplitter\n",
    "# Load the Fridge dataset\n",
    "path = icedata.fridge.load_data()\n",
    "# get the class map\n",
    "class_map = icedata.fridge.class_map()\n",
    "# parse the data\n",
    "parser = icedata.fridge.parser(data_dir=path)\n",
    "# we just want to have a look at the data so we don't split the data\n",
    "records = parser.parse(RandomSplitter([1]))[0]"
   ]
  },
  {
   "cell_type": "code",
   "execution_count": null,
   "id": "f69e98f3-d9e7-4ee3-920a-df7ab0433929",
   "metadata": {},
   "outputs": [],
   "source": [
    "from icevision_dashboards.data import BboxRecordDataset"
   ]
  },
  {
   "cell_type": "code",
   "execution_count": null,
   "id": "993b4949-8a6d-4d9d-8f56-cdc48521fbc9",
   "metadata": {},
   "outputs": [],
   "source": [
    "# Create BboxRecordDataset for the records and display the stats discriptor\n",
    "fridge_bbox_record_dataset = BboxRecordDataset(records)\n",
    "fridge_bbox_record_dataset.stats"
   ]
  },
  {
   "cell_type": "markdown",
   "id": "0514bf61-0f29-40a8-b709-e28933dd652c",
   "metadata": {},
   "source": [
    "Define a custom descriptor for stats. We will base the data for the descriptor on the base_data (the list of records). The `base_data` attribute is always set to the input data of the `__init__` function."
   ]
  },
  {
   "cell_type": "code",
   "execution_count": null,
   "id": "1a0de20a-bdf6-4cca-8e35-a735541d8f84",
   "metadata": {},
   "outputs": [],
   "source": [
    "import pandas as pd\n",
    "from icevision_dashboards.core.data import DatasetDescriptor"
   ]
  },
  {
   "cell_type": "code",
   "execution_count": null,
   "id": "824df51d-aaa2-4a64-bee9-ae2b18b73b1a",
   "metadata": {},
   "outputs": [],
   "source": [
    "class CustomStatsDescriptor(DatasetDescriptor):\n",
    "    # We only need to define the calculate_description function the getter and setter are already defined (for more information check the core.data.ipynb in the nbs folder)\n",
    "    def calculate_description(self, obj):\n",
    "        return pd.DataFrame([{\"num_records\": len(obj.base_data)}])"
   ]
  },
  {
   "cell_type": "markdown",
   "id": "e13cb9bf-05b2-4f45-9599-787d21c66905",
   "metadata": {},
   "source": [
    "With the new descriptor we can define a new CustomBboxRecordDataset that uses our CustomStatsDescriptor."
   ]
  },
  {
   "cell_type": "code",
   "execution_count": null,
   "id": "258d455a-24d6-4c80-a415-08cc41ea4ee7",
   "metadata": {},
   "outputs": [],
   "source": [
    "class CustomBboxRecordDataset(BboxRecordDataset):\n",
    "    stats = CustomStatsDescriptor()"
   ]
  },
  {
   "cell_type": "code",
   "execution_count": null,
   "id": "ad6b767e-3463-42e6-979a-1ee2827bfc01",
   "metadata": {},
   "outputs": [],
   "source": [
    "custom_bbox_record_datset = CustomBboxRecordDataset(records)\n",
    "custom_bbox_record_datset.stats"
   ]
  },
  {
   "cell_type": "markdown",
   "id": "d6f047e7-1d0a-4798-b6e5-15defad5ae52",
   "metadata": {},
   "source": [
    "The other descriptors from above are still the ones defined in the BboxRecordDataset class."
   ]
  },
  {
   "cell_type": "code",
   "execution_count": null,
   "id": "f86ab26e-2ea3-41ad-8049-ff3cc2f815f4",
   "metadata": {},
   "outputs": [],
   "source": [
    "custom_bbox_record_datset.stats_class"
   ]
  },
  {
   "cell_type": "markdown",
   "id": "502f4d54-cb20-4ee9-ae74-f047a492396d",
   "metadata": {},
   "source": [
    "Because the BboxRecordDataset automatically converts the list of records into a ObservableList (for more on that [here](../nbs/core.data.ipynb)) if we now change the observable list of records the canges will be automatically reflected by the descriptor."
   ]
  },
  {
   "cell_type": "code",
   "execution_count": null,
   "id": "b66d5897-fbb9-4e20-871c-a1d29988bdbf",
   "metadata": {},
   "outputs": [],
   "source": [
    "custom_bbox_record_datset.base_data = custom_bbox_record_datset.base_data + custom_bbox_record_datset.base_data\n",
    "custom_bbox_record_datset.stats"
   ]
  },
  {
   "cell_type": "markdown",
   "id": "46a248fd-f898-4373-886c-53c79ff05d2e",
   "metadata": {},
   "source": [
    "### Plotting functions\n",
    "The plotting functions supplied by IcevisionDashboards are mostly base on bokeh and panel and provide different levels of abstactions for creating plots and controll elements.\n",
    "\n",
    "Many basic plotting functions like barplot are wrapper around bokeh that extend the functionality to allow for creating multiple plots with one line of code:"
   ]
  },
  {
   "cell_type": "code",
   "execution_count": null,
   "id": "51699054-4750-4dfd-98a8-242bd4571341",
   "metadata": {},
   "outputs": [],
   "source": [
    "from icevision_dashboards.plotting.core import barplot\n",
    "import numpy as np\n",
    "\n",
    "bar_plot_data_1_counts = np.array([10, 15, 20])\n",
    "bar_plot_data_1_values = np.array([\"a\", \"b\", \"c\"])\n",
    "\n",
    "bar_plot_data_2_counts = np.array([15, 5, 25])\n",
    "bar_plot_data_2_values = np.array([\"a\", \"b\", \"c\"])"
   ]
  },
  {
   "cell_type": "code",
   "execution_count": null,
   "id": "6270580e-ee9c-4fca-879f-36dc7f27214a",
   "metadata": {},
   "outputs": [],
   "source": [
    "# create a barplot with linked axis (both plots have the same axis height and width)\n",
    "p = barplot([bar_plot_data_1_counts, bar_plot_data_2_counts], [bar_plot_data_1_values, bar_plot_data_2_values], bar_type=\"vertical\")\n",
    "# if the input for counts and values is a list the function returns a list of plots\n",
    "pn.Row(*p)"
   ]
  },
  {
   "cell_type": "code",
   "execution_count": null,
   "id": "51cb4f85-81a7-4508-b9b1-79bfdea4e3f4",
   "metadata": {},
   "outputs": [],
   "source": [
    "# same as above but without linking the axis\n",
    "p = barplot([bar_plot_data_1_counts, bar_plot_data_2_counts], [bar_plot_data_1_values, bar_plot_data_2_values], linked_axis=False, bar_type=\"vertical\")\n",
    "pn.Row(*p)"
   ]
  },
  {
   "cell_type": "markdown",
   "id": "bac42fdc-df27-42e7-8e4c-d586576fea3a",
   "metadata": {},
   "source": [
    "## Recap"
   ]
  },
  {
   "cell_type": "markdown",
   "id": "a288e33f-1c05-4721-ac93-899d4213283e",
   "metadata": {},
   "source": [
    "Icevision Dashboards consists of three major parts:\n",
    "\n",
    "    - Plotting functions: To create plots and controll elements\n",
    "    - Dataset and descriptors: To make the data (records) consumalbel for the dashboards and provide was to extend/change dashboards in a simple manner\n",
    "    - Dashboards: Combine plotting functions, datasets and descriptors to provide insight into the data\n",
    "    \n",
    "Above we saw some examples of how to interact with, use and combine the different components. For further examples take a look at the following notebooks:\n",
    "\n",
    "[Custom Dashboards](./Custom_dashboards.ipynb)\n",
    "    \n",
    "If you want to see how to use the existing dashboards and dataset to support you with your work take a look at the following notebooks:\n",
    "\n",
    "[Object detection](./object_detection_fridge_dataset.ipynb)\n",
    "\n",
    "[Instance Segmentation](./instance_segmentation_pennfudan_dataset.ipynb)\n",
    "\n",
    "[Creating a new dataset](./Creating_a_new_dataset.ipynb)"
   ]
  },
  {
   "cell_type": "code",
   "execution_count": null,
   "id": "7dcdfa08-51b0-436c-8cd7-b5ea327ef881",
   "metadata": {},
   "outputs": [],
   "source": []
  }
 ],
 "metadata": {
  "kernelspec": {
   "display_name": "Python 3",
   "language": "python",
   "name": "python3"
  },
  "language_info": {
   "codemirror_mode": {
    "name": "ipython",
    "version": 3
   },
   "file_extension": ".py",
   "mimetype": "text/x-python",
   "name": "python",
   "nbconvert_exporter": "python",
   "pygments_lexer": "ipython3",
   "version": "3.9.5"
  }
 },
 "nbformat": 4,
 "nbformat_minor": 5
}
