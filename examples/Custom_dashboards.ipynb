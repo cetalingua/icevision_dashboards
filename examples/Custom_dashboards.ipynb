{
 "cells": [
  {
   "cell_type": "markdown",
   "id": "3fafd7cb-588d-44f5-a3ad-851a296f596e",
   "metadata": {},
   "source": [
    "# Custom dashboards\n",
    "In this notebook we will take a look at how to customize dashboard and how to create custom dashboards.\n",
    "\n",
    "At first we will build a simple gallery that displays the image of a record with some additional data. Than we will go a bit more into detail how a dashboard is constructed and what is required and build a dashboard that uses the gallery from before as part of it."
   ]
  },
  {
   "cell_type": "markdown",
   "id": "bf560c67-eebb-4626-b63e-edcd37e8a64d",
   "metadata": {},
   "source": [
    "## Custom gallery\n",
    "We will create a simple gallery that takes a list of records and displayes the image in the record and some additional data."
   ]
  },
  {
   "cell_type": "code",
   "execution_count": null,
   "id": "41cd3bee-6462-4120-a043-7cab5e9f5664",
   "metadata": {},
   "outputs": [],
   "source": [
    "import json\n",
    "\n",
    "import icedata\n",
    "from icevision.data.data_splitter import RandomSplitter\n",
    "from icevision.visualize.draw_data import draw_sample\n",
    "import matplotlib.pyplot as plt\n",
    "import panel as pn\n",
    "import pandas as pd\n",
    "\n",
    "from icevision_dashboards.core.dashboards import BaseGallery, Dashboard"
   ]
  },
  {
   "cell_type": "code",
   "execution_count": null,
   "id": "fd0993c1-eefa-4919-b821-4b1063c818d1",
   "metadata": {},
   "outputs": [],
   "source": [
    "# make sure panel output works in jupyter notebooks\n",
    "pn.extension()"
   ]
  },
  {
   "cell_type": "code",
   "execution_count": null,
   "id": "eb5ec239-eb03-4218-8d15-4228c38a80b4",
   "metadata": {},
   "outputs": [],
   "source": [
    "# load the Fridge dataset\n",
    "path = icedata.fridge.load_data()\n",
    "# get the class map\n",
    "class_map = icedata.fridge.class_map()\n",
    "# parse the data\n",
    "parser = icedata.fridge.parser(data_dir=path)\n",
    "# we just want to have a look at the data, so we don't split the data\n",
    "records = parser.parse(RandomSplitter([1]))[0]"
   ]
  },
  {
   "cell_type": "code",
   "execution_count": null,
   "id": "62fce66a-672a-42c8-b334-c045e3018439",
   "metadata": {},
   "outputs": [],
   "source": [
    "# function that creates a plot for a record\n",
    "def gallery_plot(record, width=1000, height=700):\n",
    "    # create a plot of the image\n",
    "    image_array = draw_sample(record.load())\n",
    "    fig, ax = plt.subplots(1,1)\n",
    "    ax.imshow(image_array)\n",
    "    ax.grid(False)\n",
    "    plt.close()\n",
    "    image_widget = pn.pane.Matplotlib(fig, width=600)\n",
    "    # display the additional data of the image in json format\n",
    "    data_dict = record.as_dict()\n",
    "    # make sure all information in the data_dict is json serializable\n",
    "    data_dict[\"common\"][\"filepath\"] = str(data_dict[\"common\"][\"filepath\"])\n",
    "    data_dict[\"detection\"][\"bboxes\"] = [bbox.xyxy for bbox in data_dict[\"detection\"][\"bboxes\"]]\n",
    "    # convert the labels to the names\n",
    "    data_dict[\"detection\"][\"labels\"] = [class_map.get_by_name(label) for label in data_dict[\"detection\"][\"labels\"]]\n",
    "    json_widget = pn.pane.JSON(json.dumps(data_dict))\n",
    "    # compose the two parts\n",
    "    gui = pn.Row(image_widget, json_widget, width=width, height=height)\n",
    "    return gui"
   ]
  },
  {
   "cell_type": "code",
   "execution_count": null,
   "id": "f934220e-527a-49de-b12e-b09042a8b800",
   "metadata": {},
   "outputs": [],
   "source": [
    "gallery_plot(records[1])"
   ]
  },
  {
   "cell_type": "markdown",
   "id": "e0f6b13b-ef82-48cc-b987-348a9f5ec364",
   "metadata": {},
   "source": [
    "Now that we have a function to display a record with some additional data about the record we can now create a gallery based on that. The gallery will take a list of records as input and than show the visualization above for each entry. The `__init__` of the BaseGallery class (from which we will inherit) looks like this:\n",
    "\n",
    "```python\n",
    "def __init__(self, data, width=500, height=500):\n",
    "    \"\"\"Data can be anyting, the handling of the data is done via the functions `get_image_by_image_id` and `get_num_entries`\"\"\"\n",
    "    self.data = data\n",
    "    self.num_entries = self.get_num_entries()\n",
    "    self.UPDATING = False\n",
    "    super().__init__(width, height)\n",
    "```\n",
    "\n",
    "The important part here is that the data we give to the `__init__` function will be the data for the gallery. All we need to do, is to define two functions for the gallery: `get_num_entries` which returns the number of entries in the data and `get_image_by_index` which receives the current index and has to return a panel object that can be displayed (here we use the function defined above)."
   ]
  },
  {
   "cell_type": "code",
   "execution_count": null,
   "id": "incorporated-wholesale",
   "metadata": {},
   "outputs": [],
   "source": [
    "class ListGallery(BaseGallery):\n",
    "    def get_num_entries(self):\n",
    "        # the number of entries is just the lenght of the list of records \n",
    "        return len(self.data)\n",
    "    \n",
    "    def get_image_by_index(self, index):\n",
    "        # for visualization we take the record at the current index and return the visualization defined above\n",
    "        return gallery_plot(self.data[index])"
   ]
  },
  {
   "cell_type": "code",
   "execution_count": null,
   "id": "passing-portable",
   "metadata": {},
   "outputs": [],
   "source": [
    "# we instanciate the gallery with the records from the fridge dataset\n",
    "list_gallery = ListGallery(records)\n",
    "# to display the gallery we call the .show function\n",
    "list_gallery.show()"
   ]
  },
  {
   "cell_type": "markdown",
   "id": "bdfc5617-4cc4-4e02-b6da-48feb5dc2a9b",
   "metadata": {},
   "source": [
    "Because the BaseGallery class is base on the Dashboard class it also has the two functions `build_gui` and `show` both are already defined as the structure of the gallery is predefined and only the representation of the data is required. We will talk more on the structure of a dashboard in the next section."
   ]
  },
  {
   "cell_type": "markdown",
   "id": "30cd28bc-715a-4335-9b8e-60881d0dda3a",
   "metadata": {},
   "source": [
    "## Custom dashboard\n",
    "\n",
    "The base class for all dashboards is defined as:\n",
    "\n",
    "```python\n",
    "class Dashboard(ABC):\n",
    "    \"\"\"\n",
    "    Abstract base class for dashboards. Requires the functions `build_gui` and `show` to be defined.\n",
    "    build_gui should define the gui elements/plots for the dashboard and show should return a panel object that can be displayed.\n",
    "    In most cases build_gui will call some other functions that return gui components and combine them into one element and than register the combined element as an attribute of the class (e.g. self.gui).\n",
    "    In most cases the show function than returns the gui element defined in build_gui (e.g. self.gui).\n",
    "    \"\"\"\n",
    "    def __init__(self, width: int = 500, height: int = 500):\n",
    "        \"\"\"Takes width and hight as arguments and calls the `build_gui` function at the end.\"\"\"\n",
    "        self.width = width\n",
    "        self.height = height\n",
    "        self.build_gui()\n",
    "        \n",
    "    @abstractmethod\n",
    "    def show(self):\n",
    "        pass\n",
    "    \n",
    "    @abstractmethod\n",
    "    def build_gui(self):\n",
    "        pass\n",
    "```\n",
    "\n",
    "All classes that inherit from the Dashboard class are required to implement at least two functions: `show` and `build_gui`, but in most cases the `__init__` will also be overwritten. When the `__init__` function is overwritten the `super.__init__` should be called at the end because it will call the `build_gui` function.\n",
    "\n",
    "The `build_gui` function sould build the gui for the dashboard, for all dashboards defined in IcevisionDashboards the function will build the gui and set it to `self.gui = ...`. This allows for Dashboards to be created from other dashboards by combining them.\n",
    "\n",
    "The `show` function returns the gui of the dashboard (normaly a panel object). But for more complex dashboards you can use the `show` function to alter the display functionality of a dashboard."
   ]
  },
  {
   "cell_type": "markdown",
   "id": "4f17585c-ba0d-468a-805e-e25f958bb950",
   "metadata": {},
   "source": [
    "### Building the custom dashboard\n",
    "Next we will build a dashboard that will display some stats about the list of records at the top and show a the gallery we created above below the stats."
   ]
  },
  {
   "cell_type": "code",
   "execution_count": null,
   "id": "f07321fd-2cb6-4f65-83b3-4b04487394c6",
   "metadata": {},
   "outputs": [],
   "source": [
    "class CustomDashboard(Dashboard):\n",
    "    def __init__(self, records, width=600, height=500):\n",
    "        self.records = records\n",
    "        # calculate stats to display above the images\n",
    "        self.record_stats = self.calculate_stats()\n",
    "        super().__init__(width, height)\n",
    "        \n",
    "    def calculate_stats(self):\n",
    "        # calculate some basic stats and put the into a pandas df\n",
    "        data = {}\n",
    "        data[\"num_records\"] = len(self.records)\n",
    "        # -1 to remove the background label\n",
    "        data[\"num_classes\"] = len(self.records[0].detection.class_map)-1\n",
    "        data[\"classes\"] = self.records[0].detection.class_map._id2class[1:]\n",
    "        df = pd.DataFrame([data])\n",
    "        return df\n",
    "        \n",
    "    def build_gui(self):\n",
    "        # use the gallery we defined above\n",
    "        self.gallery = ListGallery(self.records)\n",
    "        # create a table widget from the dataframe\n",
    "        self.stats_table = pn.widgets.DataFrame(self.record_stats, height=100)\n",
    "        # compose the two parts\n",
    "        self.gui = pn.Column(\n",
    "            # use rows to center the parts horizontaly\n",
    "            pn.Row(self.stats_table, align=\"center\"),\n",
    "            pn.Row(self.gallery.gui, align=\"center\"),\n",
    "        )\n",
    "    \n",
    "    def show(self):\n",
    "        return self. gui"
   ]
  },
  {
   "cell_type": "code",
   "execution_count": null,
   "id": "c0804fde-af3e-4b47-b7d1-740c7ce86119",
   "metadata": {},
   "outputs": [],
   "source": [
    "custom_dashboard = CustomDashboard(records)\n",
    "custom_dashboard.show()"
   ]
  },
  {
   "cell_type": "code",
   "execution_count": null,
   "id": "d8b0bca0-b115-4549-9e1f-1247f95d5e21",
   "metadata": {},
   "outputs": [],
   "source": []
  }
 ],
 "metadata": {
  "kernelspec": {
   "display_name": "Python 3",
   "language": "python",
   "name": "python3"
  },
  "language_info": {
   "codemirror_mode": {
    "name": "ipython",
    "version": 3
   },
   "file_extension": ".py",
   "mimetype": "text/x-python",
   "name": "python",
   "nbconvert_exporter": "python",
   "pygments_lexer": "ipython3",
   "version": "3.9.5"
  }
 },
 "nbformat": 4,
 "nbformat_minor": 5
}
